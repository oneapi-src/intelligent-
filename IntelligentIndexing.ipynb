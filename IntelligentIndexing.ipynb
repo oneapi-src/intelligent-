{
 "cells": [
  {
   "cell_type": "markdown",
   "id": "b51487cb",
   "metadata": {},
   "source": [
    "## **Reference Implementation**\n",
    "\n",
    "### ***E2E Architecture***\n",
    "\n",
    "![Use_case_flow](assets/workflow.png)\n"
   ]
  },
  {
   "cell_type": "markdown",
   "id": "41ac550a",
   "metadata": {},
   "source": [
    "### Set Up Environment\n",
    "\n",
    "Use the following cell to change to the correct kernel. Then check that you are in the `intelligent_indexing_intel` kernel. If not, navigate to `Kernel > Change kernel > Python [conda env:intelligent_indexing_intel]`."
   ]
  },
  {
   "cell_type": "markdown",
   "id": "094c22b3",
   "metadata": {},
   "source": [
    "### Run Workflow\n",
    "\n",
    "#### Setting up the data\n",
    "\n",
    "The benchmarking scripts expects 2 files to be present in `\"$DATA_DIR\"/huffpost`.\n",
    "\n",
    "`\"$DATA_DIR\"/huffpost/train_all.csv` : training data\n",
    "`\"$DATA_DIR\"/huffpost/test.csv` : testing data\n",
    "\n",
    "After download the data for benchmarking under these requirements, do the following:\n",
    "   \n",
    "* Use the `process_data.py` script to generate the `huffpost/train_all.csv` and `huffpost/test.csv` files for benchmarking.  This script expects `News_Category_Dataset_v3.json` to be present in the same directory."
   ]
  },
  {
   "cell_type": "code",
   "execution_count": null,
   "id": "c09bba26",
   "metadata": {},
   "outputs": [],
   "source": [
    "!cd \"$DATA_DIR\" && python process_data.py"
   ]
  },
  {
   "cell_type": "markdown",
   "id": "805280c7",
   "metadata": {},
   "source": [
    "Get environment variables to use in python code."
   ]
  },
  {
   "cell_type": "code",
   "execution_count": null,
   "id": "6815ba90",
   "metadata": {},
   "outputs": [],
   "source": [
    "import os\n",
    "workspace = os.getenv(\"WORKSPACE\")\n",
    "data_dir = workspace + '/data'\n",
    "output_dir = workspace + '/output'\n",
    "print(\"workspace path: {}\".format(workspace))\n",
    "print(\"data dir path: {}\".format(data_dir))\n",
    "print(\"output dir path: {}\".format(output_dir))"
   ]
  },
  {
   "cell_type": "markdown",
   "id": "4f548afa",
   "metadata": {},
   "source": [
    "View a few samples of created data."
   ]
  },
  {
   "cell_type": "code",
   "execution_count": null,
   "id": "8fe2de74",
   "metadata": {},
   "outputs": [],
   "source": [
    "import pandas as pd\n",
    "train_all = pd.read_csv(f\"{data_dir}/huffpost/train_all.csv\")\n",
    "train_all.head(10)"
   ]
  },
  {
   "cell_type": "code",
   "execution_count": null,
   "id": "33cb5afd",
   "metadata": {},
   "outputs": [],
   "source": [
    "test = pd.read_csv(f\"{data_dir}/huffpost/test.csv\")\n",
    "test.head(10)"
   ]
  },
  {
   "cell_type": "markdown",
   "id": "0f74ba3e",
   "metadata": {},
   "source": [
    "All of the benchmarking can be run using the python script `src/run_benchmarks.py`.\n",
    "\n",
    "The script **reads and preprocesses the data**, **trains an SVC model**, and **predicts on unseen test data** using the trained model, while also reporting on the execution time for these 3 steps.\n",
    "\n",
    "> Before running the script, we need to ensure that the appropriate conda environment is activated.\n",
    "\n",
    "The run benchmark script takes the following arguments:\n",
    "\n",
    "```shell\n",
    "usage: run_benchmarks.py [-h] [-l LOGFILE] [-p] [-s SAVE_MODEL_DIR]\n",
    "\n",
    "optional arguments:\n",
    "  -h, --help            show this help message and exit\n",
    "  -l LOGFILE, --logfile LOGFILE\n",
    "                        log file to output benchmarking results to\n",
    "  -p, --preprocessing_only\n",
    "                        only perform preprocessing step\n",
    "  -s SAVE_MODEL_DIR, --save_model_dir SAVE_MODEL_DIR\n",
    "                        directory to save model to\n",
    "```\n",
    "\n",
    "To run with Intel® technologies, logging the performance to `\"$OUTPUT_DIR\"/logs/intel.log`, we would run:"
   ]
  },
  {
   "cell_type": "markdown",
   "id": "316fb415",
   "metadata": {},
   "source": [
    "Create logs directory."
   ]
  },
  {
   "cell_type": "code",
   "execution_count": null,
   "id": "585b688b",
   "metadata": {},
   "outputs": [],
   "source": [
    "!mkdir -p \"$OUTPUT_DIR\"/logs/"
   ]
  },
  {
   "cell_type": "markdown",
   "id": "6ad0ad3e",
   "metadata": {},
   "source": [
    "Execute python script `src/run_benchmarks.py` and save logs to `\"$OUTPUT_DIR\"/logs/intel.log` file."
   ]
  },
  {
   "cell_type": "code",
   "execution_count": null,
   "id": "533e7cf8",
   "metadata": {},
   "outputs": [],
   "source": [
    "!cd src && python run_benchmarks.py -l \"$OUTPUT_DIR\"/logs/intel.log"
   ]
  },
  {
   "cell_type": "markdown",
   "id": "a2e2513d",
   "metadata": {},
   "source": [
    "Inspect generated log file and check the `Test Accuracy`, `Training Time`, `Inference Time` and `Total time` of the workflow:\n",
    "\n"
   ]
  },
  {
   "cell_type": "code",
   "execution_count": null,
   "id": "ea5918f0",
   "metadata": {},
   "outputs": [],
   "source": [
    "!tail \"$OUTPUT_DIR\"/logs/intel.log"
   ]
  },
  {
   "cell_type": "markdown",
   "id": "a9e45c1b",
   "metadata": {},
   "source": [
    "#### Clean Up Workspace\n",
    "\n",
    "Follow these steps to restore your ``$WORKSPACE`` directory to a initial step. Please note that all downloaded datasets, workflow files and logs created by this Jupyter Notebook will be deleted. Before execute next cell back up your important files."
   ]
  },
  {
   "cell_type": "code",
   "execution_count": null,
   "id": "1fec8156",
   "metadata": {},
   "outputs": [],
   "source": [
    "!cd \"$DATA_DIR\" && rm -r huffpost News_Category_Dataset_v3.json && rm -r \"$OUTPUT_DIR/logs\""
   ]
  }
 ],
 "metadata": {
  "kernelspec": {
   "display_name": "Python [conda env:intelligent_indexing_intel]",
   "language": "python",
   "name": "conda-env-intelligent_indexing_intel-py"
  },
  "language_info": {
   "codemirror_mode": {
    "name": "ipython",
    "version": 3
   },
   "file_extension": ".py",
   "mimetype": "text/x-python",
   "name": "python",
   "nbconvert_exporter": "python",
   "pygments_lexer": "ipython3",
   "version": "3.9.16"
  }
 },
 "nbformat": 4,
 "nbformat_minor": 5
}
